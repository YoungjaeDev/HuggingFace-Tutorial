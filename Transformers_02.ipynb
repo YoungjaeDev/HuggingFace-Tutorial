{
  "nbformat": 4,
  "nbformat_minor": 0,
  "metadata": {
    "colab": {
      "provenance": [],
      "gpuType": "T4",
      "authorship_tag": "ABX9TyP3E/2Ala7mVlo0OH2x1JGP",
      "include_colab_link": true
    },
    "kernelspec": {
      "name": "python3",
      "display_name": "Python 3"
    },
    "language_info": {
      "name": "python"
    },
    "accelerator": "GPU"
  },
  "cells": [
    {
      "cell_type": "markdown",
      "metadata": {
        "id": "view-in-github",
        "colab_type": "text"
      },
      "source": [
        "<a href=\"https://colab.research.google.com/github/YoungjaeDev/HuggingFace-Tutorial/blob/master/Transformers_02.ipynb\" target=\"_parent\"><img src=\"https://colab.research.google.com/assets/colab-badge.svg\" alt=\"Open In Colab\"/></a>"
      ]
    },
    {
      "cell_type": "markdown",
      "source": [
        "## **IMDB Pytorch 버전으로 재학습**"
      ],
      "metadata": {
        "id": "vb3bLfEap0Q6"
      }
    },
    {
      "cell_type": "code",
      "execution_count": 1,
      "metadata": {
        "colab": {
          "base_uri": "https://localhost:8080/"
        },
        "id": "0YwHh5JBpiQ0",
        "outputId": "b04c3b9a-a216-4109-8815-48576b374a9d"
      },
      "outputs": [
        {
          "output_type": "stream",
          "name": "stdout",
          "text": [
            "Requirement already satisfied: transformers in /usr/local/lib/python3.10/dist-packages (4.38.2)\n",
            "Requirement already satisfied: filelock in /usr/local/lib/python3.10/dist-packages (from transformers) (3.13.4)\n",
            "Requirement already satisfied: huggingface-hub<1.0,>=0.19.3 in /usr/local/lib/python3.10/dist-packages (from transformers) (0.20.3)\n",
            "Requirement already satisfied: numpy>=1.17 in /usr/local/lib/python3.10/dist-packages (from transformers) (1.25.2)\n",
            "Requirement already satisfied: packaging>=20.0 in /usr/local/lib/python3.10/dist-packages (from transformers) (24.0)\n",
            "Requirement already satisfied: pyyaml>=5.1 in /usr/local/lib/python3.10/dist-packages (from transformers) (6.0.1)\n",
            "Requirement already satisfied: regex!=2019.12.17 in /usr/local/lib/python3.10/dist-packages (from transformers) (2023.12.25)\n",
            "Requirement already satisfied: requests in /usr/local/lib/python3.10/dist-packages (from transformers) (2.31.0)\n",
            "Requirement already satisfied: tokenizers<0.19,>=0.14 in /usr/local/lib/python3.10/dist-packages (from transformers) (0.15.2)\n",
            "Requirement already satisfied: safetensors>=0.4.1 in /usr/local/lib/python3.10/dist-packages (from transformers) (0.4.2)\n",
            "Requirement already satisfied: tqdm>=4.27 in /usr/local/lib/python3.10/dist-packages (from transformers) (4.66.2)\n",
            "Requirement already satisfied: fsspec>=2023.5.0 in /usr/local/lib/python3.10/dist-packages (from huggingface-hub<1.0,>=0.19.3->transformers) (2023.6.0)\n",
            "Requirement already satisfied: typing-extensions>=3.7.4.3 in /usr/local/lib/python3.10/dist-packages (from huggingface-hub<1.0,>=0.19.3->transformers) (4.11.0)\n",
            "Requirement already satisfied: charset-normalizer<4,>=2 in /usr/local/lib/python3.10/dist-packages (from requests->transformers) (3.3.2)\n",
            "Requirement already satisfied: idna<4,>=2.5 in /usr/local/lib/python3.10/dist-packages (from requests->transformers) (3.6)\n",
            "Requirement already satisfied: urllib3<3,>=1.21.1 in /usr/local/lib/python3.10/dist-packages (from requests->transformers) (2.0.7)\n",
            "Requirement already satisfied: certifi>=2017.4.17 in /usr/local/lib/python3.10/dist-packages (from requests->transformers) (2024.2.2)\n"
          ]
        }
      ],
      "source": [
        "!pip install transformers"
      ]
    },
    {
      "cell_type": "code",
      "source": [
        "import transformers\n",
        "print(transformers.__version__)"
      ],
      "metadata": {
        "colab": {
          "base_uri": "https://localhost:8080/"
        },
        "id": "C7kIhvyup4hw",
        "outputId": "634290eb-787f-4cf9-d13a-4529e9dd241d"
      },
      "execution_count": 2,
      "outputs": [
        {
          "output_type": "stream",
          "name": "stdout",
          "text": [
            "4.38.2\n"
          ]
        }
      ]
    },
    {
      "cell_type": "code",
      "source": [
        "!pip install torchtext==0.15.2 portalocker==2.7.0"
      ],
      "metadata": {
        "colab": {
          "base_uri": "https://localhost:8080/",
          "height": 1000
        },
        "id": "5FfvFAFup4ml",
        "outputId": "9f021255-16e8-4377-d6b7-cf7bef2b18ce"
      },
      "execution_count": 3,
      "outputs": [
        {
          "output_type": "stream",
          "name": "stdout",
          "text": [
            "Collecting torchtext==0.15.2\n",
            "  Downloading torchtext-0.15.2-cp310-cp310-manylinux1_x86_64.whl (2.0 MB)\n",
            "\u001b[2K     \u001b[90m━━━━━━━━━━━━━━━━━━━━━━━━━━━━━━━━━━━━━━━━\u001b[0m \u001b[32m2.0/2.0 MB\u001b[0m \u001b[31m14.7 MB/s\u001b[0m eta \u001b[36m0:00:00\u001b[0m\n",
            "\u001b[?25hCollecting portalocker==2.7.0\n",
            "  Downloading portalocker-2.7.0-py2.py3-none-any.whl (15 kB)\n",
            "Requirement already satisfied: tqdm in /usr/local/lib/python3.10/dist-packages (from torchtext==0.15.2) (4.66.2)\n",
            "Requirement already satisfied: requests in /usr/local/lib/python3.10/dist-packages (from torchtext==0.15.2) (2.31.0)\n",
            "Collecting torch==2.0.1 (from torchtext==0.15.2)\n",
            "  Downloading torch-2.0.1-cp310-cp310-manylinux1_x86_64.whl (619.9 MB)\n",
            "\u001b[2K     \u001b[90m━━━━━━━━━━━━━━━━━━━━━━━━━━━━━━━━━━━━━━━━\u001b[0m \u001b[32m619.9/619.9 MB\u001b[0m \u001b[31m1.7 MB/s\u001b[0m eta \u001b[36m0:00:00\u001b[0m\n",
            "\u001b[?25hRequirement already satisfied: numpy in /usr/local/lib/python3.10/dist-packages (from torchtext==0.15.2) (1.25.2)\n",
            "Collecting torchdata==0.6.1 (from torchtext==0.15.2)\n",
            "  Downloading torchdata-0.6.1-cp310-cp310-manylinux_2_17_x86_64.manylinux2014_x86_64.whl (4.6 MB)\n",
            "\u001b[2K     \u001b[90m━━━━━━━━━━━━━━━━━━━━━━━━━━━━━━━━━━━━━━━━\u001b[0m \u001b[32m4.6/4.6 MB\u001b[0m \u001b[31m104.3 MB/s\u001b[0m eta \u001b[36m0:00:00\u001b[0m\n",
            "\u001b[?25hRequirement already satisfied: filelock in /usr/local/lib/python3.10/dist-packages (from torch==2.0.1->torchtext==0.15.2) (3.13.4)\n",
            "Requirement already satisfied: typing-extensions in /usr/local/lib/python3.10/dist-packages (from torch==2.0.1->torchtext==0.15.2) (4.11.0)\n",
            "Requirement already satisfied: sympy in /usr/local/lib/python3.10/dist-packages (from torch==2.0.1->torchtext==0.15.2) (1.12)\n",
            "Requirement already satisfied: networkx in /usr/local/lib/python3.10/dist-packages (from torch==2.0.1->torchtext==0.15.2) (3.3)\n",
            "Requirement already satisfied: jinja2 in /usr/local/lib/python3.10/dist-packages (from torch==2.0.1->torchtext==0.15.2) (3.1.3)\n",
            "Collecting nvidia-cuda-nvrtc-cu11==11.7.99 (from torch==2.0.1->torchtext==0.15.2)\n",
            "  Downloading nvidia_cuda_nvrtc_cu11-11.7.99-2-py3-none-manylinux1_x86_64.whl (21.0 MB)\n",
            "\u001b[2K     \u001b[90m━━━━━━━━━━━━━━━━━━━━━━━━━━━━━━━━━━━━━━━━\u001b[0m \u001b[32m21.0/21.0 MB\u001b[0m \u001b[31m73.6 MB/s\u001b[0m eta \u001b[36m0:00:00\u001b[0m\n",
            "\u001b[?25hCollecting nvidia-cuda-runtime-cu11==11.7.99 (from torch==2.0.1->torchtext==0.15.2)\n",
            "  Downloading nvidia_cuda_runtime_cu11-11.7.99-py3-none-manylinux1_x86_64.whl (849 kB)\n",
            "\u001b[2K     \u001b[90m━━━━━━━━━━━━━━━━━━━━━━━━━━━━━━━━━━━━━━━━\u001b[0m \u001b[32m849.3/849.3 kB\u001b[0m \u001b[31m73.4 MB/s\u001b[0m eta \u001b[36m0:00:00\u001b[0m\n",
            "\u001b[?25hCollecting nvidia-cuda-cupti-cu11==11.7.101 (from torch==2.0.1->torchtext==0.15.2)\n",
            "  Downloading nvidia_cuda_cupti_cu11-11.7.101-py3-none-manylinux1_x86_64.whl (11.8 MB)\n",
            "\u001b[2K     \u001b[90m━━━━━━━━━━━━━━━━━━━━━━━━━━━━━━━━━━━━━━━━\u001b[0m \u001b[32m11.8/11.8 MB\u001b[0m \u001b[31m75.4 MB/s\u001b[0m eta \u001b[36m0:00:00\u001b[0m\n",
            "\u001b[?25hCollecting nvidia-cudnn-cu11==8.5.0.96 (from torch==2.0.1->torchtext==0.15.2)\n",
            "  Downloading nvidia_cudnn_cu11-8.5.0.96-2-py3-none-manylinux1_x86_64.whl (557.1 MB)\n",
            "\u001b[2K     \u001b[90m━━━━━━━━━━━━━━━━━━━━━━━━━━━━━━━━━━━━━━━━\u001b[0m \u001b[32m557.1/557.1 MB\u001b[0m \u001b[31m1.3 MB/s\u001b[0m eta \u001b[36m0:00:00\u001b[0m\n",
            "\u001b[?25hCollecting nvidia-cublas-cu11==11.10.3.66 (from torch==2.0.1->torchtext==0.15.2)\n",
            "  Downloading nvidia_cublas_cu11-11.10.3.66-py3-none-manylinux1_x86_64.whl (317.1 MB)\n",
            "\u001b[2K     \u001b[90m━━━━━━━━━━━━━━━━━━━━━━━━━━━━━━━━━━━━━━━━\u001b[0m \u001b[32m317.1/317.1 MB\u001b[0m \u001b[31m2.4 MB/s\u001b[0m eta \u001b[36m0:00:00\u001b[0m\n",
            "\u001b[?25hCollecting nvidia-cufft-cu11==10.9.0.58 (from torch==2.0.1->torchtext==0.15.2)\n",
            "  Downloading nvidia_cufft_cu11-10.9.0.58-py3-none-manylinux1_x86_64.whl (168.4 MB)\n",
            "\u001b[2K     \u001b[90m━━━━━━━━━━━━━━━━━━━━━━━━━━━━━━━━━━━━━━━━\u001b[0m \u001b[32m168.4/168.4 MB\u001b[0m \u001b[31m6.0 MB/s\u001b[0m eta \u001b[36m0:00:00\u001b[0m\n",
            "\u001b[?25hCollecting nvidia-curand-cu11==10.2.10.91 (from torch==2.0.1->torchtext==0.15.2)\n",
            "  Downloading nvidia_curand_cu11-10.2.10.91-py3-none-manylinux1_x86_64.whl (54.6 MB)\n",
            "\u001b[2K     \u001b[90m━━━━━━━━━━━━━━━━━━━━━━━━━━━━━━━━━━━━━━━━\u001b[0m \u001b[32m54.6/54.6 MB\u001b[0m \u001b[31m8.7 MB/s\u001b[0m eta \u001b[36m0:00:00\u001b[0m\n",
            "\u001b[?25hCollecting nvidia-cusolver-cu11==11.4.0.1 (from torch==2.0.1->torchtext==0.15.2)\n",
            "  Downloading nvidia_cusolver_cu11-11.4.0.1-2-py3-none-manylinux1_x86_64.whl (102.6 MB)\n",
            "\u001b[2K     \u001b[90m━━━━━━━━━━━━━━━━━━━━━━━━━━━━━━━━━━━━━━━━\u001b[0m \u001b[32m102.6/102.6 MB\u001b[0m \u001b[31m8.5 MB/s\u001b[0m eta \u001b[36m0:00:00\u001b[0m\n",
            "\u001b[?25hCollecting nvidia-cusparse-cu11==11.7.4.91 (from torch==2.0.1->torchtext==0.15.2)\n",
            "  Downloading nvidia_cusparse_cu11-11.7.4.91-py3-none-manylinux1_x86_64.whl (173.2 MB)\n",
            "\u001b[2K     \u001b[90m━━━━━━━━━━━━━━━━━━━━━━━━━━━━━━━━━━━━━━━━\u001b[0m \u001b[32m173.2/173.2 MB\u001b[0m \u001b[31m7.4 MB/s\u001b[0m eta \u001b[36m0:00:00\u001b[0m\n",
            "\u001b[?25hCollecting nvidia-nccl-cu11==2.14.3 (from torch==2.0.1->torchtext==0.15.2)\n",
            "  Downloading nvidia_nccl_cu11-2.14.3-py3-none-manylinux1_x86_64.whl (177.1 MB)\n",
            "\u001b[2K     \u001b[90m━━━━━━━━━━━━━━━━━━━━━━━━━━━━━━━━━━━━━━━━\u001b[0m \u001b[32m177.1/177.1 MB\u001b[0m \u001b[31m2.4 MB/s\u001b[0m eta \u001b[36m0:00:00\u001b[0m\n",
            "\u001b[?25hCollecting nvidia-nvtx-cu11==11.7.91 (from torch==2.0.1->torchtext==0.15.2)\n",
            "  Downloading nvidia_nvtx_cu11-11.7.91-py3-none-manylinux1_x86_64.whl (98 kB)\n",
            "\u001b[2K     \u001b[90m━━━━━━━━━━━━━━━━━━━━━━━━━━━━━━━━━━━━━━━━\u001b[0m \u001b[32m98.6/98.6 kB\u001b[0m \u001b[31m16.8 MB/s\u001b[0m eta \u001b[36m0:00:00\u001b[0m\n",
            "\u001b[?25hCollecting triton==2.0.0 (from torch==2.0.1->torchtext==0.15.2)\n",
            "  Downloading triton-2.0.0-1-cp310-cp310-manylinux2014_x86_64.manylinux_2_17_x86_64.whl (63.3 MB)\n",
            "\u001b[2K     \u001b[90m━━━━━━━━━━━━━━━━━━━━━━━━━━━━━━━━━━━━━━━━\u001b[0m \u001b[32m63.3/63.3 MB\u001b[0m \u001b[31m10.5 MB/s\u001b[0m eta \u001b[36m0:00:00\u001b[0m\n",
            "\u001b[?25hRequirement already satisfied: urllib3>=1.25 in /usr/local/lib/python3.10/dist-packages (from torchdata==0.6.1->torchtext==0.15.2) (2.0.7)\n",
            "Requirement already satisfied: setuptools in /usr/local/lib/python3.10/dist-packages (from nvidia-cublas-cu11==11.10.3.66->torch==2.0.1->torchtext==0.15.2) (67.7.2)\n",
            "Requirement already satisfied: wheel in /usr/local/lib/python3.10/dist-packages (from nvidia-cublas-cu11==11.10.3.66->torch==2.0.1->torchtext==0.15.2) (0.43.0)\n",
            "Requirement already satisfied: cmake in /usr/local/lib/python3.10/dist-packages (from triton==2.0.0->torch==2.0.1->torchtext==0.15.2) (3.27.9)\n",
            "Collecting lit (from triton==2.0.0->torch==2.0.1->torchtext==0.15.2)\n",
            "  Downloading lit-18.1.3-py3-none-any.whl (96 kB)\n",
            "\u001b[2K     \u001b[90m━━━━━━━━━━━━━━━━━━━━━━━━━━━━━━━━━━━━━━━━\u001b[0m \u001b[32m96.4/96.4 kB\u001b[0m \u001b[31m16.5 MB/s\u001b[0m eta \u001b[36m0:00:00\u001b[0m\n",
            "\u001b[?25hRequirement already satisfied: charset-normalizer<4,>=2 in /usr/local/lib/python3.10/dist-packages (from requests->torchtext==0.15.2) (3.3.2)\n",
            "Requirement already satisfied: idna<4,>=2.5 in /usr/local/lib/python3.10/dist-packages (from requests->torchtext==0.15.2) (3.6)\n",
            "Requirement already satisfied: certifi>=2017.4.17 in /usr/local/lib/python3.10/dist-packages (from requests->torchtext==0.15.2) (2024.2.2)\n",
            "Requirement already satisfied: MarkupSafe>=2.0 in /usr/local/lib/python3.10/dist-packages (from jinja2->torch==2.0.1->torchtext==0.15.2) (2.1.5)\n",
            "Requirement already satisfied: mpmath>=0.19 in /usr/local/lib/python3.10/dist-packages (from sympy->torch==2.0.1->torchtext==0.15.2) (1.3.0)\n",
            "Installing collected packages: lit, portalocker, nvidia-nvtx-cu11, nvidia-nccl-cu11, nvidia-cusparse-cu11, nvidia-curand-cu11, nvidia-cufft-cu11, nvidia-cuda-runtime-cu11, nvidia-cuda-nvrtc-cu11, nvidia-cuda-cupti-cu11, nvidia-cublas-cu11, nvidia-cusolver-cu11, nvidia-cudnn-cu11, triton, torch, torchdata, torchtext\n",
            "  Attempting uninstall: triton\n",
            "    Found existing installation: triton 2.2.0\n",
            "    Uninstalling triton-2.2.0:\n",
            "      Successfully uninstalled triton-2.2.0\n",
            "  Attempting uninstall: torch\n",
            "    Found existing installation: torch 2.2.1+cu121\n",
            "    Uninstalling torch-2.2.1+cu121:\n",
            "      Successfully uninstalled torch-2.2.1+cu121\n",
            "  Attempting uninstall: torchdata\n",
            "    Found existing installation: torchdata 0.7.1\n",
            "    Uninstalling torchdata-0.7.1:\n",
            "      Successfully uninstalled torchdata-0.7.1\n",
            "  Attempting uninstall: torchtext\n",
            "    Found existing installation: torchtext 0.17.1\n",
            "    Uninstalling torchtext-0.17.1:\n",
            "      Successfully uninstalled torchtext-0.17.1\n",
            "\u001b[31mERROR: pip's dependency resolver does not currently take into account all the packages that are installed. This behaviour is the source of the following dependency conflicts.\n",
            "torchaudio 2.2.1+cu121 requires torch==2.2.1, but you have torch 2.0.1 which is incompatible.\n",
            "torchvision 0.17.1+cu121 requires torch==2.2.1, but you have torch 2.0.1 which is incompatible.\u001b[0m\u001b[31m\n",
            "\u001b[0mSuccessfully installed lit-18.1.3 nvidia-cublas-cu11-11.10.3.66 nvidia-cuda-cupti-cu11-11.7.101 nvidia-cuda-nvrtc-cu11-11.7.99 nvidia-cuda-runtime-cu11-11.7.99 nvidia-cudnn-cu11-8.5.0.96 nvidia-cufft-cu11-10.9.0.58 nvidia-curand-cu11-10.2.10.91 nvidia-cusolver-cu11-11.4.0.1 nvidia-cusparse-cu11-11.7.4.91 nvidia-nccl-cu11-2.14.3 nvidia-nvtx-cu11-11.7.91 portalocker-2.7.0 torch-2.0.1 torchdata-0.6.1 torchtext-0.15.2 triton-2.0.0\n"
          ]
        },
        {
          "output_type": "display_data",
          "data": {
            "application/vnd.colab-display-data+json": {
              "pip_warning": {
                "packages": [
                  "torch",
                  "torchgen"
                ]
              },
              "id": "057682773d3848fab4cadd99929bdb62"
            }
          },
          "metadata": {}
        }
      ]
    },
    {
      "cell_type": "code",
      "source": [
        "!pip install accelerate -U"
      ],
      "metadata": {
        "colab": {
          "base_uri": "https://localhost:8080/"
        },
        "id": "YCKAYOpsp4qG",
        "outputId": "9cd4c00c-34f2-4495-e3c4-0ad46f7f740a"
      },
      "execution_count": 1,
      "outputs": [
        {
          "output_type": "stream",
          "name": "stdout",
          "text": [
            "Collecting accelerate\n",
            "  Using cached accelerate-0.29.2-py3-none-any.whl (297 kB)\n",
            "Requirement already satisfied: numpy>=1.17 in /usr/local/lib/python3.10/dist-packages (from accelerate) (1.25.2)\n",
            "Requirement already satisfied: packaging>=20.0 in /usr/local/lib/python3.10/dist-packages (from accelerate) (24.0)\n",
            "Requirement already satisfied: psutil in /usr/local/lib/python3.10/dist-packages (from accelerate) (5.9.5)\n",
            "Requirement already satisfied: pyyaml in /usr/local/lib/python3.10/dist-packages (from accelerate) (6.0.1)\n",
            "Requirement already satisfied: torch>=1.10.0 in /usr/local/lib/python3.10/dist-packages (from accelerate) (2.0.1)\n",
            "Requirement already satisfied: huggingface-hub in /usr/local/lib/python3.10/dist-packages (from accelerate) (0.20.3)\n",
            "Requirement already satisfied: safetensors>=0.3.1 in /usr/local/lib/python3.10/dist-packages (from accelerate) (0.4.2)\n",
            "Requirement already satisfied: filelock in /usr/local/lib/python3.10/dist-packages (from torch>=1.10.0->accelerate) (3.13.4)\n",
            "Requirement already satisfied: typing-extensions in /usr/local/lib/python3.10/dist-packages (from torch>=1.10.0->accelerate) (4.11.0)\n",
            "Requirement already satisfied: sympy in /usr/local/lib/python3.10/dist-packages (from torch>=1.10.0->accelerate) (1.12)\n",
            "Requirement already satisfied: networkx in /usr/local/lib/python3.10/dist-packages (from torch>=1.10.0->accelerate) (3.3)\n",
            "Requirement already satisfied: jinja2 in /usr/local/lib/python3.10/dist-packages (from torch>=1.10.0->accelerate) (3.1.3)\n",
            "Requirement already satisfied: nvidia-cuda-nvrtc-cu11==11.7.99 in /usr/local/lib/python3.10/dist-packages (from torch>=1.10.0->accelerate) (11.7.99)\n",
            "Requirement already satisfied: nvidia-cuda-runtime-cu11==11.7.99 in /usr/local/lib/python3.10/dist-packages (from torch>=1.10.0->accelerate) (11.7.99)\n",
            "Requirement already satisfied: nvidia-cuda-cupti-cu11==11.7.101 in /usr/local/lib/python3.10/dist-packages (from torch>=1.10.0->accelerate) (11.7.101)\n",
            "Requirement already satisfied: nvidia-cudnn-cu11==8.5.0.96 in /usr/local/lib/python3.10/dist-packages (from torch>=1.10.0->accelerate) (8.5.0.96)\n",
            "Requirement already satisfied: nvidia-cublas-cu11==11.10.3.66 in /usr/local/lib/python3.10/dist-packages (from torch>=1.10.0->accelerate) (11.10.3.66)\n",
            "Requirement already satisfied: nvidia-cufft-cu11==10.9.0.58 in /usr/local/lib/python3.10/dist-packages (from torch>=1.10.0->accelerate) (10.9.0.58)\n",
            "Requirement already satisfied: nvidia-curand-cu11==10.2.10.91 in /usr/local/lib/python3.10/dist-packages (from torch>=1.10.0->accelerate) (10.2.10.91)\n",
            "Requirement already satisfied: nvidia-cusolver-cu11==11.4.0.1 in /usr/local/lib/python3.10/dist-packages (from torch>=1.10.0->accelerate) (11.4.0.1)\n",
            "Requirement already satisfied: nvidia-cusparse-cu11==11.7.4.91 in /usr/local/lib/python3.10/dist-packages (from torch>=1.10.0->accelerate) (11.7.4.91)\n",
            "Requirement already satisfied: nvidia-nccl-cu11==2.14.3 in /usr/local/lib/python3.10/dist-packages (from torch>=1.10.0->accelerate) (2.14.3)\n",
            "Requirement already satisfied: nvidia-nvtx-cu11==11.7.91 in /usr/local/lib/python3.10/dist-packages (from torch>=1.10.0->accelerate) (11.7.91)\n",
            "Requirement already satisfied: triton==2.0.0 in /usr/local/lib/python3.10/dist-packages (from torch>=1.10.0->accelerate) (2.0.0)\n",
            "Requirement already satisfied: setuptools in /usr/local/lib/python3.10/dist-packages (from nvidia-cublas-cu11==11.10.3.66->torch>=1.10.0->accelerate) (67.7.2)\n",
            "Requirement already satisfied: wheel in /usr/local/lib/python3.10/dist-packages (from nvidia-cublas-cu11==11.10.3.66->torch>=1.10.0->accelerate) (0.43.0)\n",
            "Requirement already satisfied: cmake in /usr/local/lib/python3.10/dist-packages (from triton==2.0.0->torch>=1.10.0->accelerate) (3.27.9)\n",
            "Requirement already satisfied: lit in /usr/local/lib/python3.10/dist-packages (from triton==2.0.0->torch>=1.10.0->accelerate) (18.1.3)\n",
            "Requirement already satisfied: fsspec>=2023.5.0 in /usr/local/lib/python3.10/dist-packages (from huggingface-hub->accelerate) (2023.6.0)\n",
            "Requirement already satisfied: requests in /usr/local/lib/python3.10/dist-packages (from huggingface-hub->accelerate) (2.31.0)\n",
            "Requirement already satisfied: tqdm>=4.42.1 in /usr/local/lib/python3.10/dist-packages (from huggingface-hub->accelerate) (4.66.2)\n",
            "Requirement already satisfied: MarkupSafe>=2.0 in /usr/local/lib/python3.10/dist-packages (from jinja2->torch>=1.10.0->accelerate) (2.1.5)\n",
            "Requirement already satisfied: charset-normalizer<4,>=2 in /usr/local/lib/python3.10/dist-packages (from requests->huggingface-hub->accelerate) (3.3.2)\n",
            "Requirement already satisfied: idna<4,>=2.5 in /usr/local/lib/python3.10/dist-packages (from requests->huggingface-hub->accelerate) (3.6)\n",
            "Requirement already satisfied: urllib3<3,>=1.21.1 in /usr/local/lib/python3.10/dist-packages (from requests->huggingface-hub->accelerate) (2.0.7)\n",
            "Requirement already satisfied: certifi>=2017.4.17 in /usr/local/lib/python3.10/dist-packages (from requests->huggingface-hub->accelerate) (2024.2.2)\n",
            "Requirement already satisfied: mpmath>=0.19 in /usr/local/lib/python3.10/dist-packages (from sympy->torch>=1.10.0->accelerate) (1.3.0)\n",
            "Installing collected packages: accelerate\n",
            "Successfully installed accelerate-0.29.2\n"
          ]
        }
      ]
    },
    {
      "cell_type": "code",
      "source": [
        "from torchtext.datasets import IMDB\n",
        "\n",
        "train_iter = IMDB(split='train')\n",
        "test_iter = IMDB(split='test')"
      ],
      "metadata": {
        "id": "-MSvnuG-p4tC"
      },
      "execution_count": 2,
      "outputs": []
    },
    {
      "cell_type": "code",
      "source": [
        "import random\n",
        "random.seed(6)\n",
        "\n",
        "# train_iter를 리스트 타입으로 변경\n",
        "train_lists = list(train_iter)\n",
        "test_lists = list(test_iter)\n",
        "\n",
        "# 각기 1000개씩 랜덤 샘플링\n",
        "train_lists_small = random.sample(train_lists, 1000)\n",
        "test_lists_small = random.sample(test_lists, 1000)"
      ],
      "metadata": {
        "id": "-A-gQMnSp4vy"
      },
      "execution_count": 3,
      "outputs": []
    },
    {
      "cell_type": "code",
      "source": [
        "import torch\n",
        "from torch.utils.data import Dataset, DataLoader\n",
        "from transformers import DistilBertForSequenceClassification, AdamW\n",
        "from transformers import DistilBertTokenizerFast\n",
        "\n",
        "tokenizer = DistilBertTokenizerFast.from_pretrained('distilbert-base-uncased')\n",
        "model = DistilBertForSequenceClassification.from_pretrained('distilbert-base-uncased')\n",
        "device = 'cuda' if torch.cuda.is_available() else 'cpu'\n",
        "\n",
        "model.to(device)"
      ],
      "metadata": {
        "colab": {
          "base_uri": "https://localhost:8080/"
        },
        "id": "NnzQhzRzqrHB",
        "outputId": "1fdbc5ef-dfe3-4fec-a4a4-e43a3f050055"
      },
      "execution_count": 6,
      "outputs": [
        {
          "output_type": "stream",
          "name": "stderr",
          "text": [
            "Some weights of DistilBertForSequenceClassification were not initialized from the model checkpoint at distilbert-base-uncased and are newly initialized: ['classifier.bias', 'classifier.weight', 'pre_classifier.bias', 'pre_classifier.weight']\n",
            "You should probably TRAIN this model on a down-stream task to be able to use it for predictions and inference.\n"
          ]
        },
        {
          "output_type": "execute_result",
          "data": {
            "text/plain": [
              "DistilBertForSequenceClassification(\n",
              "  (distilbert): DistilBertModel(\n",
              "    (embeddings): Embeddings(\n",
              "      (word_embeddings): Embedding(30522, 768, padding_idx=0)\n",
              "      (position_embeddings): Embedding(512, 768)\n",
              "      (LayerNorm): LayerNorm((768,), eps=1e-12, elementwise_affine=True)\n",
              "      (dropout): Dropout(p=0.1, inplace=False)\n",
              "    )\n",
              "    (transformer): Transformer(\n",
              "      (layer): ModuleList(\n",
              "        (0-5): 6 x TransformerBlock(\n",
              "          (attention): MultiHeadSelfAttention(\n",
              "            (dropout): Dropout(p=0.1, inplace=False)\n",
              "            (q_lin): Linear(in_features=768, out_features=768, bias=True)\n",
              "            (k_lin): Linear(in_features=768, out_features=768, bias=True)\n",
              "            (v_lin): Linear(in_features=768, out_features=768, bias=True)\n",
              "            (out_lin): Linear(in_features=768, out_features=768, bias=True)\n",
              "          )\n",
              "          (sa_layer_norm): LayerNorm((768,), eps=1e-12, elementwise_affine=True)\n",
              "          (ffn): FFN(\n",
              "            (dropout): Dropout(p=0.1, inplace=False)\n",
              "            (lin1): Linear(in_features=768, out_features=3072, bias=True)\n",
              "            (lin2): Linear(in_features=3072, out_features=768, bias=True)\n",
              "            (activation): GELUActivation()\n",
              "          )\n",
              "          (output_layer_norm): LayerNorm((768,), eps=1e-12, elementwise_affine=True)\n",
              "        )\n",
              "      )\n",
              "    )\n",
              "  )\n",
              "  (pre_classifier): Linear(in_features=768, out_features=768, bias=True)\n",
              "  (classifier): Linear(in_features=768, out_features=2, bias=True)\n",
              "  (dropout): Dropout(p=0.2, inplace=False)\n",
              ")"
            ]
          },
          "metadata": {},
          "execution_count": 6
        }
      ]
    },
    {
      "cell_type": "code",
      "source": [
        "def test_inference(model, tokenizer):\n",
        "    input_tokens = tokenizer([\"I feel fantastic\", \"My life is going something wrong\", \"I have not figured out what the chosen title has to do with the movie.\"], truncation=True, padding=True)\n",
        "    outputs = model(torch.tensor(input_tokens['input_ids']).to(device))\n",
        "\n",
        "    label_dict = {1:'positive', 0:'negative'}\n",
        "\n",
        "    return [label_dict[i] for i in torch.argmax(outputs['logits'], axis=1).cpu().numpy()]"
      ],
      "metadata": {
        "id": "QUK8b-A7rKV-"
      },
      "execution_count": 7,
      "outputs": []
    },
    {
      "cell_type": "code",
      "source": [
        "print(test_inference(model, tokenizer))"
      ],
      "metadata": {
        "colab": {
          "base_uri": "https://localhost:8080/"
        },
        "id": "M28PC9xHsFhf",
        "outputId": "58df5c26-6ccd-4bbe-8cc8-75c894f2f05c"
      },
      "execution_count": 8,
      "outputs": [
        {
          "output_type": "stream",
          "name": "stderr",
          "text": [
            "We strongly recommend passing in an `attention_mask` since your input_ids may be padded. See https://huggingface.co/docs/transformers/troubleshooting#incorrect-output-when-padding-tokens-arent-masked.\n"
          ]
        },
        {
          "output_type": "stream",
          "name": "stdout",
          "text": [
            "['negative', 'negative', 'negative']\n"
          ]
        }
      ]
    },
    {
      "cell_type": "code",
      "source": [
        "train_texts = []\n",
        "train_labels = []\n",
        "\n",
        "# for 반복문\n",
        "# train_lists_small에 담긴 튜플 쌍 원소를 변수명 label과 text를 부여하여 순서대로 추출\n",
        "for label, text in train_lists_small:\n",
        "  # IMDB 데이터의 기존 레이블 2를 1로 변경, 기존 레이블 1을 0으로 변경\n",
        "  train_labels.append(1 if label == 2 else 0)\n",
        "  train_texts.append(text)\n",
        "\n",
        "# text_texts와 test_labels라는 컨테이너 생성\n",
        "test_texts = []\n",
        "test_labels = []\n",
        "\n",
        "# for 반복문\n",
        "for label, text in test_lists_small:\n",
        "  # IMDB 데이터의 기존 레이블 2를 1로 변경, 기존 레이블 1을 0으로 변경\n",
        "  test_labels.append(1 if label == 2 else 0)\n",
        "  test_texts.append(text)\n",
        "\n",
        "# 각 변수에 담긴 인덱스 0에 해당하는 원소, 즉 첫번째 원소 출력\n",
        "print(train_texts[0])\n",
        "print(train_labels[0])\n",
        "print(test_texts[0])\n",
        "print(test_labels[0])"
      ],
      "metadata": {
        "colab": {
          "base_uri": "https://localhost:8080/"
        },
        "id": "M7aFE66usJKe",
        "outputId": "f84c404c-a4e8-4fa2-e566-70332a9177a8"
      },
      "execution_count": 9,
      "outputs": [
        {
          "output_type": "stream",
          "name": "stdout",
          "text": [
            "I LOVED this movie! I am biased seeing as I am a huge Disney fan, but I really enjoyed myself. The action takes off running in the beginning of the film and just keeps going! This is a bit of a departure for Disney, they don't spend quite as much time on character development (my husband pointed this out)and there are no musical numbers. It is strictly action adventure. I thoroughly enjoyed it and recommend it to anyone who loves Disney, be they young or old.\n",
            "1\n",
            "This was an abysmal show. In short it was about this kid called Doug who guilt-tripped a lot. Seriously he could feel guilty over killing a fly then feeling guilty over feeling guilty for killing the fly and so forth. The animation was grating and unpleasant and the jokes cheap. <br /><br />It aired here in Sweden as a part of the \"Disney time\" show and i remember liking it some what but then i turned 13.<br /><br />I never got why some of the characters were green and purple too. What was up with that? <br /><br />Truly a horrible show. Appareantly it spawned a movie which i've never seen but i don't have any great expectations for that one either.\n",
            "0\n"
          ]
        }
      ]
    },
    {
      "cell_type": "code",
      "source": [
        "from sklearn.model_selection import train_test_split\n",
        "train_texts, val_texts, train_labels, val_labels = train_test_split(train_texts, train_labels, test_size=.2, random_state=3)\n",
        "\n",
        "train_encodings = tokenizer(train_texts, truncation=True, padding=True)\n",
        "val_encodings = tokenizer(val_texts, truncation=True, padding=True)\n",
        "test_encodings = tokenizer(test_texts, truncation=True, padding=True)"
      ],
      "metadata": {
        "id": "CD9b_jgOsj5P"
      },
      "execution_count": 10,
      "outputs": []
    },
    {
      "cell_type": "code",
      "source": [
        "# Dataset 클래스를 상속하는 IMDBDataset 클래스를 정의\n",
        "class IMDbDataset(Dataset):\n",
        "\n",
        "    # 생성자 __init__()\n",
        "    # 자신을 가르키는 매개변수 self 포함\n",
        "    # 변수를 저장하기 위해 self.변수명을 사용\n",
        "    def __init__(self, encodings, labels):\n",
        "        self.encodings = encodings\n",
        "        self.labels = labels\n",
        "\n",
        "    # 자신을 가르키는 매개변수 self 포함\n",
        "    def __getitem__(self, idx):\n",
        "        # self.encoding에 담긴 키(key)와 키값(value)을 items()로 추출\n",
        "        # 이 값을 key와 val 변수에 담아 새로운 키(key)와 키값(torch.tensor(val[idx]))를 갖는 딕셔너리 생성\n",
        "        # 딕셔너리는 {\"key1:value1\", \"key2:value2\", ,,,} 형태를 지닌 파이썬 데이터 구조\n",
        "        # val[idx]에 담긴 데이터를 torch.tensor()를 통해 파이토치 텐서로 변환\n",
        "        item = {key: torch.tensor(val[idx]) for key, val in self.encodings.items()}\n",
        "\n",
        "        # self.lables[idx]에 담긴 데이터를 torch.tensor()를 통해 파이토치 텐서 변환\n",
        "        item['labels'] = torch.tensor(self.labels[idx])\n",
        "        return item\n",
        "\n",
        "    # 자신을 가르키는 매개변수 self 포함\n",
        "    def __len__(self):\n",
        "        return len(self.labels)\n",
        "\n",
        "train_dataset = IMDbDataset(train_encodings, train_labels)\n",
        "val_dataset = IMDbDataset(val_encodings, val_labels)\n",
        "test_dataset = IMDbDataset(test_encodings, test_labels)"
      ],
      "metadata": {
        "id": "lxt2v6tEssRW"
      },
      "execution_count": 11,
      "outputs": []
    },
    {
      "cell_type": "code",
      "source": [
        "train_loader = DataLoader(train_dataset, batch_size=16, shuffle=True)\n",
        "\n",
        "optim = AdamW(model.parameters(), lr=5e-5)\n",
        "\n",
        "model.train()\n",
        "\n",
        "losses = []"
      ],
      "metadata": {
        "colab": {
          "base_uri": "https://localhost:8080/"
        },
        "id": "7mGEq0htswKp",
        "outputId": "e7098c86-2aa7-4db6-d036-ad6d0024b369"
      },
      "execution_count": 12,
      "outputs": [
        {
          "output_type": "stream",
          "name": "stderr",
          "text": [
            "/usr/local/lib/python3.10/dist-packages/transformers/optimization.py:429: FutureWarning: This implementation of AdamW is deprecated and will be removed in a future version. Use the PyTorch implementation torch.optim.AdamW instead, or set `no_deprecation_warning=True` to disable this warning\n",
            "  warnings.warn(\n"
          ]
        }
      ]
    },
    {
      "cell_type": "code",
      "source": [
        "for epoch in range(8):\n",
        "  print(f'epoch: {epoch}')\n",
        "\n",
        "  for batch in train_loader:\n",
        "    optim.zero_grad()\n",
        "\n",
        "    input_ids = batch['input_ids'].to(device)\n",
        "    attention_mask = batch['attention_mask'].to(device)\n",
        "    labels = batch['labels'].to(device)\n",
        "\n",
        "    outputs = model(input_ids, attention_mask=attention_mask, labels=labels)\n",
        "\n",
        "    loss = outputs[0]\n",
        "    losses.append(loss)\n",
        "\n",
        "    loss.backward()\n",
        "\n",
        "    optim.step()\n",
        "\n",
        "\n",
        "model.eval()\n",
        "\n",
        "print(test_inference(model, tokenizer))"
      ],
      "metadata": {
        "colab": {
          "base_uri": "https://localhost:8080/"
        },
        "id": "5wPNjyNwtG0L",
        "outputId": "b7d8370c-b7d0-4275-babd-c774157a9ee7"
      },
      "execution_count": 13,
      "outputs": [
        {
          "output_type": "stream",
          "name": "stdout",
          "text": [
            "epoch: 0\n",
            "epoch: 1\n",
            "epoch: 2\n",
            "epoch: 3\n",
            "epoch: 4\n",
            "epoch: 5\n",
            "epoch: 6\n",
            "epoch: 7\n",
            "['positive', 'negative', 'positive']\n"
          ]
        }
      ]
    },
    {
      "cell_type": "code",
      "source": [
        "print(losses)\n",
        "print(type(losses))\n",
        "\n",
        "# item 함수를 사용하면 텐서 값을 파이썬 숫자로 추출하여 CPU로 전달\n",
        "\n",
        "new_losses = [i.item() for i in losses]\n",
        "print(new_losses[:5], new_losses[-5:])"
      ],
      "metadata": {
        "colab": {
          "base_uri": "https://localhost:8080/"
        },
        "id": "BZfWojvqyRcm",
        "outputId": "a37b81e5-9889-496f-8188-2027649a6998"
      },
      "execution_count": 14,
      "outputs": [
        {
          "output_type": "stream",
          "name": "stdout",
          "text": [
            "[tensor(0.6867, device='cuda:0', grad_fn=<NllLossBackward0>), tensor(0.6678, device='cuda:0', grad_fn=<NllLossBackward0>), tensor(0.6549, device='cuda:0', grad_fn=<NllLossBackward0>), tensor(0.7755, device='cuda:0', grad_fn=<NllLossBackward0>), tensor(0.7430, device='cuda:0', grad_fn=<NllLossBackward0>), tensor(0.7647, device='cuda:0', grad_fn=<NllLossBackward0>), tensor(0.6973, device='cuda:0', grad_fn=<NllLossBackward0>), tensor(0.7151, device='cuda:0', grad_fn=<NllLossBackward0>), tensor(0.6410, device='cuda:0', grad_fn=<NllLossBackward0>), tensor(0.6719, device='cuda:0', grad_fn=<NllLossBackward0>), tensor(0.6711, device='cuda:0', grad_fn=<NllLossBackward0>), tensor(0.8142, device='cuda:0', grad_fn=<NllLossBackward0>), tensor(0.7522, device='cuda:0', grad_fn=<NllLossBackward0>), tensor(0.7403, device='cuda:0', grad_fn=<NllLossBackward0>), tensor(0.6952, device='cuda:0', grad_fn=<NllLossBackward0>), tensor(0.6644, device='cuda:0', grad_fn=<NllLossBackward0>), tensor(0.6654, device='cuda:0', grad_fn=<NllLossBackward0>), tensor(0.6981, device='cuda:0', grad_fn=<NllLossBackward0>), tensor(0.7554, device='cuda:0', grad_fn=<NllLossBackward0>), tensor(0.6116, device='cuda:0', grad_fn=<NllLossBackward0>), tensor(0.8152, device='cuda:0', grad_fn=<NllLossBackward0>), tensor(0.7324, device='cuda:0', grad_fn=<NllLossBackward0>), tensor(0.6977, device='cuda:0', grad_fn=<NllLossBackward0>), tensor(0.6670, device='cuda:0', grad_fn=<NllLossBackward0>), tensor(0.6704, device='cuda:0', grad_fn=<NllLossBackward0>), tensor(0.6711, device='cuda:0', grad_fn=<NllLossBackward0>), tensor(0.6587, device='cuda:0', grad_fn=<NllLossBackward0>), tensor(0.6579, device='cuda:0', grad_fn=<NllLossBackward0>), tensor(0.5936, device='cuda:0', grad_fn=<NllLossBackward0>), tensor(0.6666, device='cuda:0', grad_fn=<NllLossBackward0>), tensor(0.7522, device='cuda:0', grad_fn=<NllLossBackward0>), tensor(0.6937, device='cuda:0', grad_fn=<NllLossBackward0>), tensor(0.6734, device='cuda:0', grad_fn=<NllLossBackward0>), tensor(0.6574, device='cuda:0', grad_fn=<NllLossBackward0>), tensor(0.6219, device='cuda:0', grad_fn=<NllLossBackward0>), tensor(0.6019, device='cuda:0', grad_fn=<NllLossBackward0>), tensor(0.6231, device='cuda:0', grad_fn=<NllLossBackward0>), tensor(0.6356, device='cuda:0', grad_fn=<NllLossBackward0>), tensor(0.5788, device='cuda:0', grad_fn=<NllLossBackward0>), tensor(0.4925, device='cuda:0', grad_fn=<NllLossBackward0>), tensor(0.6473, device='cuda:0', grad_fn=<NllLossBackward0>), tensor(0.5326, device='cuda:0', grad_fn=<NllLossBackward0>), tensor(0.4811, device='cuda:0', grad_fn=<NllLossBackward0>), tensor(0.3912, device='cuda:0', grad_fn=<NllLossBackward0>), tensor(0.7692, device='cuda:0', grad_fn=<NllLossBackward0>), tensor(0.7143, device='cuda:0', grad_fn=<NllLossBackward0>), tensor(0.5968, device='cuda:0', grad_fn=<NllLossBackward0>), tensor(0.3328, device='cuda:0', grad_fn=<NllLossBackward0>), tensor(0.4004, device='cuda:0', grad_fn=<NllLossBackward0>), tensor(0.3415, device='cuda:0', grad_fn=<NllLossBackward0>), tensor(0.4029, device='cuda:0', grad_fn=<NllLossBackward0>), tensor(0.3020, device='cuda:0', grad_fn=<NllLossBackward0>), tensor(0.4329, device='cuda:0', grad_fn=<NllLossBackward0>), tensor(0.2220, device='cuda:0', grad_fn=<NllLossBackward0>), tensor(0.6428, device='cuda:0', grad_fn=<NllLossBackward0>), tensor(0.2784, device='cuda:0', grad_fn=<NllLossBackward0>), tensor(0.3483, device='cuda:0', grad_fn=<NllLossBackward0>), tensor(0.3237, device='cuda:0', grad_fn=<NllLossBackward0>), tensor(0.5330, device='cuda:0', grad_fn=<NllLossBackward0>), tensor(0.3741, device='cuda:0', grad_fn=<NllLossBackward0>), tensor(0.4457, device='cuda:0', grad_fn=<NllLossBackward0>), tensor(0.6682, device='cuda:0', grad_fn=<NllLossBackward0>), tensor(0.2406, device='cuda:0', grad_fn=<NllLossBackward0>), tensor(0.4375, device='cuda:0', grad_fn=<NllLossBackward0>), tensor(0.2525, device='cuda:0', grad_fn=<NllLossBackward0>), tensor(0.4368, device='cuda:0', grad_fn=<NllLossBackward0>), tensor(0.2660, device='cuda:0', grad_fn=<NllLossBackward0>), tensor(0.2764, device='cuda:0', grad_fn=<NllLossBackward0>), tensor(0.3438, device='cuda:0', grad_fn=<NllLossBackward0>), tensor(0.2448, device='cuda:0', grad_fn=<NllLossBackward0>), tensor(0.1385, device='cuda:0', grad_fn=<NllLossBackward0>), tensor(0.5377, device='cuda:0', grad_fn=<NllLossBackward0>), tensor(0.3692, device='cuda:0', grad_fn=<NllLossBackward0>), tensor(0.4520, device='cuda:0', grad_fn=<NllLossBackward0>), tensor(0.1317, device='cuda:0', grad_fn=<NllLossBackward0>), tensor(0.0993, device='cuda:0', grad_fn=<NllLossBackward0>), tensor(0.4192, device='cuda:0', grad_fn=<NllLossBackward0>), tensor(0.2879, device='cuda:0', grad_fn=<NllLossBackward0>), tensor(0.4669, device='cuda:0', grad_fn=<NllLossBackward0>), tensor(0.5561, device='cuda:0', grad_fn=<NllLossBackward0>), tensor(0.5475, device='cuda:0', grad_fn=<NllLossBackward0>), tensor(0.3989, device='cuda:0', grad_fn=<NllLossBackward0>), tensor(0.2490, device='cuda:0', grad_fn=<NllLossBackward0>), tensor(0.1536, device='cuda:0', grad_fn=<NllLossBackward0>), tensor(0.3371, device='cuda:0', grad_fn=<NllLossBackward0>), tensor(0.6263, device='cuda:0', grad_fn=<NllLossBackward0>), tensor(0.3412, device='cuda:0', grad_fn=<NllLossBackward0>), tensor(0.4892, device='cuda:0', grad_fn=<NllLossBackward0>), tensor(0.2277, device='cuda:0', grad_fn=<NllLossBackward0>), tensor(0.6161, device='cuda:0', grad_fn=<NllLossBackward0>), tensor(0.3549, device='cuda:0', grad_fn=<NllLossBackward0>), tensor(0.3900, device='cuda:0', grad_fn=<NllLossBackward0>), tensor(0.3644, device='cuda:0', grad_fn=<NllLossBackward0>), tensor(0.2541, device='cuda:0', grad_fn=<NllLossBackward0>), tensor(0.5109, device='cuda:0', grad_fn=<NllLossBackward0>), tensor(0.3873, device='cuda:0', grad_fn=<NllLossBackward0>), tensor(0.2790, device='cuda:0', grad_fn=<NllLossBackward0>), tensor(0.2454, device='cuda:0', grad_fn=<NllLossBackward0>), tensor(0.2684, device='cuda:0', grad_fn=<NllLossBackward0>), tensor(0.2597, device='cuda:0', grad_fn=<NllLossBackward0>), tensor(0.0984, device='cuda:0', grad_fn=<NllLossBackward0>), tensor(0.1868, device='cuda:0', grad_fn=<NllLossBackward0>), tensor(0.0620, device='cuda:0', grad_fn=<NllLossBackward0>), tensor(0.1446, device='cuda:0', grad_fn=<NllLossBackward0>), tensor(0.1349, device='cuda:0', grad_fn=<NllLossBackward0>), tensor(0.0290, device='cuda:0', grad_fn=<NllLossBackward0>), tensor(0.0391, device='cuda:0', grad_fn=<NllLossBackward0>), tensor(0.0710, device='cuda:0', grad_fn=<NllLossBackward0>), tensor(0.0276, device='cuda:0', grad_fn=<NllLossBackward0>), tensor(0.2073, device='cuda:0', grad_fn=<NllLossBackward0>), tensor(0.0248, device='cuda:0', grad_fn=<NllLossBackward0>), tensor(0.0163, device='cuda:0', grad_fn=<NllLossBackward0>), tensor(0.0881, device='cuda:0', grad_fn=<NllLossBackward0>), tensor(0.2958, device='cuda:0', grad_fn=<NllLossBackward0>), tensor(0.2905, device='cuda:0', grad_fn=<NllLossBackward0>), tensor(0.0145, device='cuda:0', grad_fn=<NllLossBackward0>), tensor(0.3276, device='cuda:0', grad_fn=<NllLossBackward0>), tensor(0.0743, device='cuda:0', grad_fn=<NllLossBackward0>), tensor(0.0137, device='cuda:0', grad_fn=<NllLossBackward0>), tensor(0.0160, device='cuda:0', grad_fn=<NllLossBackward0>), tensor(0.1141, device='cuda:0', grad_fn=<NllLossBackward0>), tensor(0.3053, device='cuda:0', grad_fn=<NllLossBackward0>), tensor(0.5862, device='cuda:0', grad_fn=<NllLossBackward0>), tensor(0.0276, device='cuda:0', grad_fn=<NllLossBackward0>), tensor(0.4292, device='cuda:0', grad_fn=<NllLossBackward0>), tensor(0.3305, device='cuda:0', grad_fn=<NllLossBackward0>), tensor(0.1322, device='cuda:0', grad_fn=<NllLossBackward0>), tensor(0.1147, device='cuda:0', grad_fn=<NllLossBackward0>), tensor(0.5241, device='cuda:0', grad_fn=<NllLossBackward0>), tensor(0.0396, device='cuda:0', grad_fn=<NllLossBackward0>), tensor(0.1654, device='cuda:0', grad_fn=<NllLossBackward0>), tensor(0.1822, device='cuda:0', grad_fn=<NllLossBackward0>), tensor(0.0277, device='cuda:0', grad_fn=<NllLossBackward0>), tensor(0.2134, device='cuda:0', grad_fn=<NllLossBackward0>), tensor(0.2690, device='cuda:0', grad_fn=<NllLossBackward0>), tensor(0.0929, device='cuda:0', grad_fn=<NllLossBackward0>), tensor(0.2759, device='cuda:0', grad_fn=<NllLossBackward0>), tensor(0.2132, device='cuda:0', grad_fn=<NllLossBackward0>), tensor(0.1527, device='cuda:0', grad_fn=<NllLossBackward0>), tensor(0.1652, device='cuda:0', grad_fn=<NllLossBackward0>), tensor(0.0495, device='cuda:0', grad_fn=<NllLossBackward0>), tensor(0.1678, device='cuda:0', grad_fn=<NllLossBackward0>), tensor(0.1651, device='cuda:0', grad_fn=<NllLossBackward0>), tensor(0.2755, device='cuda:0', grad_fn=<NllLossBackward0>), tensor(0.1515, device='cuda:0', grad_fn=<NllLossBackward0>), tensor(0.2257, device='cuda:0', grad_fn=<NllLossBackward0>), tensor(0.2342, device='cuda:0', grad_fn=<NllLossBackward0>), tensor(0.1164, device='cuda:0', grad_fn=<NllLossBackward0>), tensor(0.0585, device='cuda:0', grad_fn=<NllLossBackward0>), tensor(0.0363, device='cuda:0', grad_fn=<NllLossBackward0>), tensor(0.0826, device='cuda:0', grad_fn=<NllLossBackward0>), tensor(0.0720, device='cuda:0', grad_fn=<NllLossBackward0>), tensor(0.0828, device='cuda:0', grad_fn=<NllLossBackward0>), tensor(0.1629, device='cuda:0', grad_fn=<NllLossBackward0>), tensor(0.1687, device='cuda:0', grad_fn=<NllLossBackward0>), tensor(0.0539, device='cuda:0', grad_fn=<NllLossBackward0>), tensor(0.0622, device='cuda:0', grad_fn=<NllLossBackward0>), tensor(0.1786, device='cuda:0', grad_fn=<NllLossBackward0>), tensor(0.0369, device='cuda:0', grad_fn=<NllLossBackward0>), tensor(0.0579, device='cuda:0', grad_fn=<NllLossBackward0>), tensor(0.0564, device='cuda:0', grad_fn=<NllLossBackward0>), tensor(0.0564, device='cuda:0', grad_fn=<NllLossBackward0>), tensor(0.0185, device='cuda:0', grad_fn=<NllLossBackward0>), tensor(0.3015, device='cuda:0', grad_fn=<NllLossBackward0>), tensor(0.0873, device='cuda:0', grad_fn=<NllLossBackward0>), tensor(0.0277, device='cuda:0', grad_fn=<NllLossBackward0>), tensor(0.0102, device='cuda:0', grad_fn=<NllLossBackward0>), tensor(0.0405, device='cuda:0', grad_fn=<NllLossBackward0>), tensor(0.0198, device='cuda:0', grad_fn=<NllLossBackward0>), tensor(0.0273, device='cuda:0', grad_fn=<NllLossBackward0>), tensor(0.0091, device='cuda:0', grad_fn=<NllLossBackward0>), tensor(0.0127, device='cuda:0', grad_fn=<NllLossBackward0>), tensor(0.0082, device='cuda:0', grad_fn=<NllLossBackward0>), tensor(0.0077, device='cuda:0', grad_fn=<NllLossBackward0>), tensor(0.0087, device='cuda:0', grad_fn=<NllLossBackward0>), tensor(0.2101, device='cuda:0', grad_fn=<NllLossBackward0>), tensor(0.2544, device='cuda:0', grad_fn=<NllLossBackward0>), tensor(0.0282, device='cuda:0', grad_fn=<NllLossBackward0>), tensor(0.2253, device='cuda:0', grad_fn=<NllLossBackward0>), tensor(0.0204, device='cuda:0', grad_fn=<NllLossBackward0>), tensor(0.0182, device='cuda:0', grad_fn=<NllLossBackward0>), tensor(0.0181, device='cuda:0', grad_fn=<NllLossBackward0>), tensor(0.0093, device='cuda:0', grad_fn=<NllLossBackward0>), tensor(0.0602, device='cuda:0', grad_fn=<NllLossBackward0>), tensor(0.0251, device='cuda:0', grad_fn=<NllLossBackward0>), tensor(0.0342, device='cuda:0', grad_fn=<NllLossBackward0>), tensor(0.0168, device='cuda:0', grad_fn=<NllLossBackward0>), tensor(0.0174, device='cuda:0', grad_fn=<NllLossBackward0>), tensor(0.0853, device='cuda:0', grad_fn=<NllLossBackward0>), tensor(0.0116, device='cuda:0', grad_fn=<NllLossBackward0>), tensor(0.0386, device='cuda:0', grad_fn=<NllLossBackward0>), tensor(0.0098, device='cuda:0', grad_fn=<NllLossBackward0>), tensor(0.0058, device='cuda:0', grad_fn=<NllLossBackward0>), tensor(0.0145, device='cuda:0', grad_fn=<NllLossBackward0>), tensor(0.4298, device='cuda:0', grad_fn=<NllLossBackward0>), tensor(0.1856, device='cuda:0', grad_fn=<NllLossBackward0>), tensor(0.2265, device='cuda:0', grad_fn=<NllLossBackward0>), tensor(0.3369, device='cuda:0', grad_fn=<NllLossBackward0>), tensor(0.0369, device='cuda:0', grad_fn=<NllLossBackward0>), tensor(0.0768, device='cuda:0', grad_fn=<NllLossBackward0>), tensor(0.0322, device='cuda:0', grad_fn=<NllLossBackward0>), tensor(0.3034, device='cuda:0', grad_fn=<NllLossBackward0>), tensor(0.0552, device='cuda:0', grad_fn=<NllLossBackward0>), tensor(0.0386, device='cuda:0', grad_fn=<NllLossBackward0>), tensor(0.0136, device='cuda:0', grad_fn=<NllLossBackward0>), tensor(0.0079, device='cuda:0', grad_fn=<NllLossBackward0>), tensor(0.0182, device='cuda:0', grad_fn=<NllLossBackward0>), tensor(0.1195, device='cuda:0', grad_fn=<NllLossBackward0>), tensor(0.3598, device='cuda:0', grad_fn=<NllLossBackward0>), tensor(0.0518, device='cuda:0', grad_fn=<NllLossBackward0>), tensor(0.0139, device='cuda:0', grad_fn=<NllLossBackward0>), tensor(0.0727, device='cuda:0', grad_fn=<NllLossBackward0>), tensor(0.0128, device='cuda:0', grad_fn=<NllLossBackward0>), tensor(0.0206, device='cuda:0', grad_fn=<NllLossBackward0>), tensor(0.0073, device='cuda:0', grad_fn=<NllLossBackward0>), tensor(0.0112, device='cuda:0', grad_fn=<NllLossBackward0>), tensor(0.0397, device='cuda:0', grad_fn=<NllLossBackward0>), tensor(0.0104, device='cuda:0', grad_fn=<NllLossBackward0>), tensor(0.3222, device='cuda:0', grad_fn=<NllLossBackward0>), tensor(0.0126, device='cuda:0', grad_fn=<NllLossBackward0>), tensor(0.2460, device='cuda:0', grad_fn=<NllLossBackward0>), tensor(0.0167, device='cuda:0', grad_fn=<NllLossBackward0>), tensor(0.0468, device='cuda:0', grad_fn=<NllLossBackward0>), tensor(0.0189, device='cuda:0', grad_fn=<NllLossBackward0>), tensor(0.0241, device='cuda:0', grad_fn=<NllLossBackward0>), tensor(0.0097, device='cuda:0', grad_fn=<NllLossBackward0>), tensor(0.0092, device='cuda:0', grad_fn=<NllLossBackward0>), tensor(0.0077, device='cuda:0', grad_fn=<NllLossBackward0>), tensor(0.0093, device='cuda:0', grad_fn=<NllLossBackward0>), tensor(0.0138, device='cuda:0', grad_fn=<NllLossBackward0>), tensor(0.0138, device='cuda:0', grad_fn=<NllLossBackward0>), tensor(0.0095, device='cuda:0', grad_fn=<NllLossBackward0>), tensor(0.0930, device='cuda:0', grad_fn=<NllLossBackward0>), tensor(0.0133, device='cuda:0', grad_fn=<NllLossBackward0>), tensor(0.0134, device='cuda:0', grad_fn=<NllLossBackward0>), tensor(0.0063, device='cuda:0', grad_fn=<NllLossBackward0>), tensor(0.0085, device='cuda:0', grad_fn=<NllLossBackward0>), tensor(0.0082, device='cuda:0', grad_fn=<NllLossBackward0>), tensor(0.0062, device='cuda:0', grad_fn=<NllLossBackward0>), tensor(0.0141, device='cuda:0', grad_fn=<NllLossBackward0>), tensor(0.0052, device='cuda:0', grad_fn=<NllLossBackward0>), tensor(0.0048, device='cuda:0', grad_fn=<NllLossBackward0>), tensor(0.0103, device='cuda:0', grad_fn=<NllLossBackward0>), tensor(0.0201, device='cuda:0', grad_fn=<NllLossBackward0>), tensor(0.0042, device='cuda:0', grad_fn=<NllLossBackward0>), tensor(0.0039, device='cuda:0', grad_fn=<NllLossBackward0>), tensor(0.0045, device='cuda:0', grad_fn=<NllLossBackward0>), tensor(0.0042, device='cuda:0', grad_fn=<NllLossBackward0>), tensor(0.0103, device='cuda:0', grad_fn=<NllLossBackward0>), tensor(0.0038, device='cuda:0', grad_fn=<NllLossBackward0>), tensor(0.0033, device='cuda:0', grad_fn=<NllLossBackward0>), tensor(0.0067, device='cuda:0', grad_fn=<NllLossBackward0>), tensor(0.0039, device='cuda:0', grad_fn=<NllLossBackward0>), tensor(0.0041, device='cuda:0', grad_fn=<NllLossBackward0>), tensor(0.0050, device='cuda:0', grad_fn=<NllLossBackward0>), tensor(0.0326, device='cuda:0', grad_fn=<NllLossBackward0>), tensor(0.0035, device='cuda:0', grad_fn=<NllLossBackward0>), tensor(0.0033, device='cuda:0', grad_fn=<NllLossBackward0>), tensor(0.0040, device='cuda:0', grad_fn=<NllLossBackward0>), tensor(0.0041, device='cuda:0', grad_fn=<NllLossBackward0>), tensor(0.0037, device='cuda:0', grad_fn=<NllLossBackward0>), tensor(0.0049, device='cuda:0', grad_fn=<NllLossBackward0>), tensor(0.0033, device='cuda:0', grad_fn=<NllLossBackward0>), tensor(0.0024, device='cuda:0', grad_fn=<NllLossBackward0>), tensor(0.0024, device='cuda:0', grad_fn=<NllLossBackward0>), tensor(0.0090, device='cuda:0', grad_fn=<NllLossBackward0>), tensor(0.0046, device='cuda:0', grad_fn=<NllLossBackward0>), tensor(0.0025, device='cuda:0', grad_fn=<NllLossBackward0>), tensor(0.0228, device='cuda:0', grad_fn=<NllLossBackward0>), tensor(0.0046, device='cuda:0', grad_fn=<NllLossBackward0>), tensor(0.0033, device='cuda:0', grad_fn=<NllLossBackward0>), tensor(0.0034, device='cuda:0', grad_fn=<NllLossBackward0>), tensor(0.0022, device='cuda:0', grad_fn=<NllLossBackward0>), tensor(0.0239, device='cuda:0', grad_fn=<NllLossBackward0>), tensor(0.0023, device='cuda:0', grad_fn=<NllLossBackward0>), tensor(0.0029, device='cuda:0', grad_fn=<NllLossBackward0>), tensor(0.3172, device='cuda:0', grad_fn=<NllLossBackward0>), tensor(0.0032, device='cuda:0', grad_fn=<NllLossBackward0>), tensor(0.0027, device='cuda:0', grad_fn=<NllLossBackward0>), tensor(0.0022, device='cuda:0', grad_fn=<NllLossBackward0>), tensor(0.0024, device='cuda:0', grad_fn=<NllLossBackward0>), tensor(0.0031, device='cuda:0', grad_fn=<NllLossBackward0>), tensor(0.0027, device='cuda:0', grad_fn=<NllLossBackward0>), tensor(0.2247, device='cuda:0', grad_fn=<NllLossBackward0>), tensor(0.0033, device='cuda:0', grad_fn=<NllLossBackward0>), tensor(0.0030, device='cuda:0', grad_fn=<NllLossBackward0>), tensor(0.0037, device='cuda:0', grad_fn=<NllLossBackward0>), tensor(0.0072, device='cuda:0', grad_fn=<NllLossBackward0>), tensor(0.0028, device='cuda:0', grad_fn=<NllLossBackward0>), tensor(0.0321, device='cuda:0', grad_fn=<NllLossBackward0>), tensor(0.0047, device='cuda:0', grad_fn=<NllLossBackward0>), tensor(0.3717, device='cuda:0', grad_fn=<NllLossBackward0>), tensor(0.0046, device='cuda:0', grad_fn=<NllLossBackward0>), tensor(0.2704, device='cuda:0', grad_fn=<NllLossBackward0>), tensor(0.1673, device='cuda:0', grad_fn=<NllLossBackward0>), tensor(0.0059, device='cuda:0', grad_fn=<NllLossBackward0>), tensor(0.2597, device='cuda:0', grad_fn=<NllLossBackward0>), tensor(0.0052, device='cuda:0', grad_fn=<NllLossBackward0>), tensor(0.0055, device='cuda:0', grad_fn=<NllLossBackward0>), tensor(0.0334, device='cuda:0', grad_fn=<NllLossBackward0>), tensor(0.0841, device='cuda:0', grad_fn=<NllLossBackward0>), tensor(0.0079, device='cuda:0', grad_fn=<NllLossBackward0>), tensor(0.1617, device='cuda:0', grad_fn=<NllLossBackward0>), tensor(0.0077, device='cuda:0', grad_fn=<NllLossBackward0>), tensor(0.0091, device='cuda:0', grad_fn=<NllLossBackward0>), tensor(0.0306, device='cuda:0', grad_fn=<NllLossBackward0>), tensor(0.1307, device='cuda:0', grad_fn=<NllLossBackward0>), tensor(0.1740, device='cuda:0', grad_fn=<NllLossBackward0>), tensor(0.1551, device='cuda:0', grad_fn=<NllLossBackward0>), tensor(0.0110, device='cuda:0', grad_fn=<NllLossBackward0>), tensor(0.0092, device='cuda:0', grad_fn=<NllLossBackward0>), tensor(0.0068, device='cuda:0', grad_fn=<NllLossBackward0>), tensor(0.0168, device='cuda:0', grad_fn=<NllLossBackward0>), tensor(0.3185, device='cuda:0', grad_fn=<NllLossBackward0>), tensor(0.0095, device='cuda:0', grad_fn=<NllLossBackward0>), tensor(0.0390, device='cuda:0', grad_fn=<NllLossBackward0>), tensor(0.1642, device='cuda:0', grad_fn=<NllLossBackward0>), tensor(0.0139, device='cuda:0', grad_fn=<NllLossBackward0>), tensor(0.0098, device='cuda:0', grad_fn=<NllLossBackward0>), tensor(0.0100, device='cuda:0', grad_fn=<NllLossBackward0>), tensor(0.0628, device='cuda:0', grad_fn=<NllLossBackward0>), tensor(0.0212, device='cuda:0', grad_fn=<NllLossBackward0>), tensor(0.0054, device='cuda:0', grad_fn=<NllLossBackward0>), tensor(0.0184, device='cuda:0', grad_fn=<NllLossBackward0>), tensor(0.0083, device='cuda:0', grad_fn=<NllLossBackward0>), tensor(0.0434, device='cuda:0', grad_fn=<NllLossBackward0>), tensor(0.0286, device='cuda:0', grad_fn=<NllLossBackward0>), tensor(0.0041, device='cuda:0', grad_fn=<NllLossBackward0>), tensor(0.0109, device='cuda:0', grad_fn=<NllLossBackward0>), tensor(0.0122, device='cuda:0', grad_fn=<NllLossBackward0>), tensor(0.0122, device='cuda:0', grad_fn=<NllLossBackward0>), tensor(0.0347, device='cuda:0', grad_fn=<NllLossBackward0>), tensor(0.0350, device='cuda:0', grad_fn=<NllLossBackward0>), tensor(0.0123, device='cuda:0', grad_fn=<NllLossBackward0>), tensor(0.0359, device='cuda:0', grad_fn=<NllLossBackward0>), tensor(0.0046, device='cuda:0', grad_fn=<NllLossBackward0>), tensor(0.0332, device='cuda:0', grad_fn=<NllLossBackward0>), tensor(0.0028, device='cuda:0', grad_fn=<NllLossBackward0>), tensor(0.0037, device='cuda:0', grad_fn=<NllLossBackward0>), tensor(0.1452, device='cuda:0', grad_fn=<NllLossBackward0>), tensor(0.0033, device='cuda:0', grad_fn=<NllLossBackward0>), tensor(0.0432, device='cuda:0', grad_fn=<NllLossBackward0>), tensor(0.0044, device='cuda:0', grad_fn=<NllLossBackward0>), tensor(0.0047, device='cuda:0', grad_fn=<NllLossBackward0>), tensor(0.0108, device='cuda:0', grad_fn=<NllLossBackward0>), tensor(0.0022, device='cuda:0', grad_fn=<NllLossBackward0>), tensor(0.0040, device='cuda:0', grad_fn=<NllLossBackward0>), tensor(0.0072, device='cuda:0', grad_fn=<NllLossBackward0>), tensor(0.0026, device='cuda:0', grad_fn=<NllLossBackward0>), tensor(0.0031, device='cuda:0', grad_fn=<NllLossBackward0>), tensor(0.0515, device='cuda:0', grad_fn=<NllLossBackward0>), tensor(0.3396, device='cuda:0', grad_fn=<NllLossBackward0>), tensor(0.0024, device='cuda:0', grad_fn=<NllLossBackward0>), tensor(0.0034, device='cuda:0', grad_fn=<NllLossBackward0>), tensor(0.0020, device='cuda:0', grad_fn=<NllLossBackward0>), tensor(0.0121, device='cuda:0', grad_fn=<NllLossBackward0>), tensor(0.0184, device='cuda:0', grad_fn=<NllLossBackward0>), tensor(0.0024, device='cuda:0', grad_fn=<NllLossBackward0>), tensor(0.0142, device='cuda:0', grad_fn=<NllLossBackward0>), tensor(0.0021, device='cuda:0', grad_fn=<NllLossBackward0>), tensor(0.0032, device='cuda:0', grad_fn=<NllLossBackward0>), tensor(0.0291, device='cuda:0', grad_fn=<NllLossBackward0>), tensor(0.0031, device='cuda:0', grad_fn=<NllLossBackward0>), tensor(0.0054, device='cuda:0', grad_fn=<NllLossBackward0>), tensor(0.0036, device='cuda:0', grad_fn=<NllLossBackward0>), tensor(0.2009, device='cuda:0', grad_fn=<NllLossBackward0>), tensor(0.0020, device='cuda:0', grad_fn=<NllLossBackward0>), tensor(0.0033, device='cuda:0', grad_fn=<NllLossBackward0>), tensor(0.0020, device='cuda:0', grad_fn=<NllLossBackward0>), tensor(0.0038, device='cuda:0', grad_fn=<NllLossBackward0>), tensor(0.0030, device='cuda:0', grad_fn=<NllLossBackward0>), tensor(0.0168, device='cuda:0', grad_fn=<NllLossBackward0>), tensor(0.0045, device='cuda:0', grad_fn=<NllLossBackward0>), tensor(0.0044, device='cuda:0', grad_fn=<NllLossBackward0>), tensor(0.0024, device='cuda:0', grad_fn=<NllLossBackward0>), tensor(0.2246, device='cuda:0', grad_fn=<NllLossBackward0>), tensor(0.0018, device='cuda:0', grad_fn=<NllLossBackward0>), tensor(0.0075, device='cuda:0', grad_fn=<NllLossBackward0>), tensor(0.0019, device='cuda:0', grad_fn=<NllLossBackward0>), tensor(0.0024, device='cuda:0', grad_fn=<NllLossBackward0>), tensor(0.0050, device='cuda:0', grad_fn=<NllLossBackward0>), tensor(0.0020, device='cuda:0', grad_fn=<NllLossBackward0>), tensor(0.0208, device='cuda:0', grad_fn=<NllLossBackward0>), tensor(0.0039, device='cuda:0', grad_fn=<NllLossBackward0>), tensor(0.0025, device='cuda:0', grad_fn=<NllLossBackward0>), tensor(0.0036, device='cuda:0', grad_fn=<NllLossBackward0>), tensor(0.0063, device='cuda:0', grad_fn=<NllLossBackward0>), tensor(0.3882, device='cuda:0', grad_fn=<NllLossBackward0>), tensor(0.0656, device='cuda:0', grad_fn=<NllLossBackward0>), tensor(0.0028, device='cuda:0', grad_fn=<NllLossBackward0>), tensor(0.0085, device='cuda:0', grad_fn=<NllLossBackward0>), tensor(0.0029, device='cuda:0', grad_fn=<NllLossBackward0>), tensor(0.0026, device='cuda:0', grad_fn=<NllLossBackward0>), tensor(0.0021, device='cuda:0', grad_fn=<NllLossBackward0>), tensor(0.0038, device='cuda:0', grad_fn=<NllLossBackward0>), tensor(0.0347, device='cuda:0', grad_fn=<NllLossBackward0>), tensor(0.0099, device='cuda:0', grad_fn=<NllLossBackward0>), tensor(0.0162, device='cuda:0', grad_fn=<NllLossBackward0>), tensor(0.0026, device='cuda:0', grad_fn=<NllLossBackward0>), tensor(0.1315, device='cuda:0', grad_fn=<NllLossBackward0>)]\n",
            "<class 'list'>\n",
            "[0.6867016553878784, 0.6677777767181396, 0.6548811197280884, 0.7754582166671753, 0.743046224117279] [0.034734681248664856, 0.009906870312988758, 0.016152897849678993, 0.002588364528492093, 0.13149042427539825]\n"
          ]
        }
      ]
    },
    {
      "cell_type": "code",
      "source": [
        "import matplotlib.pyplot as plt\n",
        "\n",
        "plt.plot(new_losses)\n",
        "plt.show()"
      ],
      "metadata": {
        "colab": {
          "base_uri": "https://localhost:8080/",
          "height": 430
        },
        "id": "U6iG2-QlzLSy",
        "outputId": "ad761db0-efe3-4e40-d5f7-28bb099eabd3"
      },
      "execution_count": 15,
      "outputs": [
        {
          "output_type": "display_data",
          "data": {
            "text/plain": [
              "<Figure size 640x480 with 1 Axes>"
            ],
            "image/png": "[encoded data removed]"
          },
          "metadata": {}
        }
      ]
    },
    {
      "cell_type": "markdown",
      "source": [
        "## **테스트셋에 대한 정확도 추출**"
      ],
      "metadata": {
        "id": "PXOf-0rAzc4R"
      }
    },
    {
      "cell_type": "code",
      "source": [
        "model.eval()\n",
        "\n",
        "test_predictions = []\n",
        "\n",
        "for test_text in test_texts:\n",
        "  input_tokens = tokenizer([test_text], truncation=True, padding=True)\n",
        "\n",
        "  outputs = model(torch.tensor(input_tokens['input_ids']).to(device))\n",
        "\n",
        "  test_predictions.append( torch.argmax(outputs['logits'], axis=1).item() )"
      ],
      "metadata": {
        "id": "Z_pSlw4IzPwP"
      },
      "execution_count": 18,
      "outputs": []
    },
    {
      "cell_type": "code",
      "source": [
        "test_predictions[:5]"
      ],
      "metadata": {
        "colab": {
          "base_uri": "https://localhost:8080/"
        },
        "id": "Tmui9MuczbtO",
        "outputId": "7172f3bd-41e3-4b85-f48a-7627a957a7a9"
      },
      "execution_count": 19,
      "outputs": [
        {
          "output_type": "execute_result",
          "data": {
            "text/plain": [
              "[0, 0, 0, 0, 1]"
            ]
          },
          "metadata": {},
          "execution_count": 19
        }
      ]
    },
    {
      "cell_type": "code",
      "source": [
        "correct_cnt = 0\n",
        "\n",
        "for pred, gt in zip(test_predictions, test_labels):\n",
        "  if pred == gt:\n",
        "    correct_cnt += 1\n",
        "\n",
        "print(correct_cnt/len(test_labels) * 100, '%')"
      ],
      "metadata": {
        "colab": {
          "base_uri": "https://localhost:8080/"
        },
        "id": "T46TjrcK0jtT",
        "outputId": "65d85a63-e6db-4de9-b405-5f0fe0d0915c"
      },
      "execution_count": 23,
      "outputs": [
        {
          "output_type": "stream",
          "name": "stdout",
          "text": [
            "86.2 %\n"
          ]
        }
      ]
    },
    {
      "cell_type": "code",
      "source": [
        "from sklearn.metrics import classification_report\n",
        "\n",
        "# label이 1인 부분을 확인하면 됨\n",
        "print(classification_report(test_labels, test_predictions))"
      ],
      "metadata": {
        "colab": {
          "base_uri": "https://localhost:8080/"
        },
        "id": "J1gxG7dK0osq",
        "outputId": "a0dbb5e7-91e6-4b47-cb93-00e2fe2b63cf"
      },
      "execution_count": 24,
      "outputs": [
        {
          "output_type": "stream",
          "name": "stdout",
          "text": [
            "              precision    recall  f1-score   support\n",
            "\n",
            "           0       0.86      0.88      0.87       521\n",
            "           1       0.87      0.84      0.85       479\n",
            "\n",
            "    accuracy                           0.86      1000\n",
            "   macro avg       0.86      0.86      0.86      1000\n",
            "weighted avg       0.86      0.86      0.86      1000\n",
            "\n"
          ]
        }
      ]
    },
    {
      "cell_type": "code",
      "source": [],
      "metadata": {
        "id": "k6yLb3aT1g-Y"
      },
      "execution_count": null,
      "outputs": []
    }
  ]
}